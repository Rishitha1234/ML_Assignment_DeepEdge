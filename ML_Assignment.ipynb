{
  "cells": [
    {
      "cell_type": "markdown",
      "source": [
        "### **REQUIREMENTS**\n",
        "\n"
      ],
      "metadata": {
        "id": "UHjJ67Gv9wQ7"
      }
    },
    {
      "cell_type": "markdown",
      "source": [
        "Tensorflow    (Version: 2.9.1 )\n",
        "\n",
        "Numpy         (Version: 1.22.4)\n",
        "\n",
        "Matplotlib    (Version: 3.5.2)\n",
        "\n",
        "Scikit-learn  (Version: 1.1.1)"
      ],
      "metadata": {
        "id": "-EO7w8JL-Ntx"
      }
    },
    {
      "cell_type": "markdown",
      "source": [
        "### **INSTALLATION INSTRUCTIONS**\n"
      ],
      "metadata": {
        "id": "thtjVwqH-R3W"
      }
    },
    {
      "cell_type": "code",
      "execution_count": 19,
      "metadata": {
        "id": "6OxfJIZple47"
      },
      "outputs": [],
      "source": [
        "#Run this cell incase you don't have the required libraries\n",
        "# !pip install numpy\n",
        "# !pip install tensorflow\n",
        "# !pip install matplotlib\n",
        "# !pip install scikit-learn"
      ]
    },
    {
      "cell_type": "markdown",
      "source": [
        "### **DATASET GENERATION**\n",
        "-- Given the task of predicting the coordinates of a single bright pixel in a 50x50 image, we require a dataset where each image contains exactly one pixel with a value of 255, while all other pixels are set to 0.\n",
        "\n",
        "--STEPS:\n",
        "1. Generate Images: Create 50x50 images with a single pixel set to 255, and all others set to 0.\n",
        "2. Generate Labels: The labels for each image will be the (x, y) coordinates of the bright pixel."
      ],
      "metadata": {
        "id": "07ScNNqR-dxs"
      }
    },
    {
      "cell_type": "code",
      "execution_count": 20,
      "metadata": {
        "colab": {
          "base_uri": "https://localhost:8080/",
          "height": 283
        },
        "id": "Dj5bmbwwltdo",
        "outputId": "f527a69b-606a-46b6-d77f-0b0be6a4016b"
      },
      "outputs": [
        {
          "output_type": "display_data",
          "data": {
            "text/plain": [
              "<Figure size 1500x300 with 5 Axes>"
            ],
            "image/png": "[encoded data removed]"
          },
          "metadata": {}
        }
      ],
      "source": [
        "import numpy as np\n",
        "import random\n",
        "import matplotlib.pyplot as plt\n",
        "\n",
        "def generate_dataset(num_samples=10000, img_size=50):\n",
        "    images = np.zeros((num_samples, img_size, img_size), dtype=np.uint8)\n",
        "    labels = np.zeros((num_samples, 2), dtype=int)  # Use built-in int\n",
        "\n",
        "    for i in range(num_samples):\n",
        "        x = random.randint(0, img_size-1)\n",
        "        y = random.randint(0, img_size-1)\n",
        "        images[i, x, y] = 255\n",
        "        labels[i] = [x, y]\n",
        "\n",
        "    return images, labels/50\n",
        "\n",
        "# Generate dataset\n",
        "images, labels = generate_dataset(num_samples=10000)\n",
        "\n",
        "# Visualize some samples\n",
        "fig, axes = plt.subplots(1, 5, figsize=(15, 3))\n",
        "for i in range(5):\n",
        "    axes[i].imshow(images[i], cmap='gray')\n",
        "    axes[i].set_title(f\"Label: {labels[i]}\")\n",
        "plt.show()\n"
      ]
    },
    {
      "cell_type": "markdown",
      "source": [
        "### **MODEL DESIGN**\n",
        "-- We'll use a Convolutional Neural Network (CNN) to predict the coordinates. The model will take the 50x50 image as input and output two values (x, y)."
      ],
      "metadata": {
        "id": "bhlJjrsF-063"
      }
    },
    {
      "cell_type": "code",
      "execution_count": 21,
      "metadata": {
        "colab": {
          "base_uri": "https://localhost:8080/"
        },
        "id": "4wJ9vnxul_Qr",
        "outputId": "364c3644-6716-463c-b856-6696cc8f0dd0"
      },
      "outputs": [
        {
          "output_type": "stream",
          "name": "stdout",
          "text": [
            "Model: \"sequential_2\"\n",
            "_________________________________________________________________\n",
            " Layer (type)                Output Shape              Param #   \n",
            "=================================================================\n",
            " conv2d_4 (Conv2D)           (None, 48, 48, 32)        320       \n",
            "                                                                 \n",
            " max_pooling2d_4 (MaxPoolin  (None, 24, 24, 32)        0         \n",
            " g2D)                                                            \n",
            "                                                                 \n",
            " conv2d_5 (Conv2D)           (None, 22, 22, 64)        18496     \n",
            "                                                                 \n",
            " max_pooling2d_5 (MaxPoolin  (None, 11, 11, 64)        0         \n",
            " g2D)                                                            \n",
            "                                                                 \n",
            " flatten_2 (Flatten)         (None, 7744)              0         \n",
            "                                                                 \n",
            " dense_4 (Dense)             (None, 128)               991360    \n",
            "                                                                 \n",
            " dense_5 (Dense)             (None, 2)                 258       \n",
            "                                                                 \n",
            "=================================================================\n",
            "Total params: 1010434 (3.85 MB)\n",
            "Trainable params: 1010434 (3.85 MB)\n",
            "Non-trainable params: 0 (0.00 Byte)\n",
            "_________________________________________________________________\n"
          ]
        }
      ],
      "source": [
        "import tensorflow as tf\n",
        "from tensorflow.keras.models import Sequential\n",
        "from tensorflow.keras.layers import Conv2D, MaxPooling2D, Flatten, Dense\n",
        "\n",
        "def create_model(input_shape=(50, 50, 1)):\n",
        "    model = Sequential([\n",
        "        Conv2D(32, (3, 3), activation='relu', input_shape=input_shape),\n",
        "        MaxPooling2D((2, 2)),\n",
        "        Conv2D(64, (3, 3), activation='relu'),\n",
        "        MaxPooling2D((2, 2)),\n",
        "        Flatten(),\n",
        "        Dense(128, activation='relu'),\n",
        "        Dense(2, activation='sigmoid')  # Output layer with 2 neurons for (x, y) coordinates\n",
        "    ])\n",
        "\n",
        "    model.compile(optimizer='adam', loss='mse', metrics=['mae'])\n",
        "    return model\n",
        "\n",
        "# Create model\n",
        "model = create_model()\n",
        "model.summary()\n"
      ]
    },
    {
      "cell_type": "markdown",
      "source": [
        "### **DATA PREPROCESSING AND TRAINING**"
      ],
      "metadata": {
        "id": "TGDwvKXG_Q0q"
      }
    },
    {
      "cell_type": "code",
      "execution_count": 22,
      "metadata": {
        "id": "TabCHoi4mC43"
      },
      "outputs": [],
      "source": [
        "# Normalize the images\n",
        "images = images / 255.0\n",
        "images = images.reshape(-1, 50, 50, 1)\n",
        "\n",
        "# Split dataset into training and testing\n",
        "from sklearn.model_selection import train_test_split\n",
        "X_train, X_test, y_train, y_test = train_test_split(images, labels, test_size=0.2, random_state=42)"
      ]
    },
    {
      "cell_type": "code",
      "execution_count": 23,
      "metadata": {
        "colab": {
          "base_uri": "https://localhost:8080/"
        },
        "id": "CJF8H3PpmQJB",
        "outputId": "c3410cba-417b-4251-ce95-e7b7bb2f9204"
      },
      "outputs": [
        {
          "metadata": {
            "tags": null
          },
          "name": "stdout",
          "output_type": "stream",
          "text": [
            "Epoch 1/10\n",
            "200/200 [==============================] - 19s 90ms/step - loss: 0.0085 - mae: 0.0564 - val_loss: 0.0013 - val_mae: 0.0271\n",
            "Epoch 2/10\n",
            "200/200 [==============================] - 20s 99ms/step - loss: 0.0010 - mae: 0.0238 - val_loss: 6.4992e-04 - val_mae: 0.0187\n",
            "Epoch 3/10\n",
            "200/200 [==============================] - 18s 89ms/step - loss: 4.3685e-04 - mae: 0.0155 - val_loss: 6.2430e-04 - val_mae: 0.0187\n",
            "Epoch 4/10\n",
            "200/200 [==============================] - 18s 88ms/step - loss: 4.1902e-04 - mae: 0.0152 - val_loss: 2.8798e-04 - val_mae: 0.0127\n",
            "Epoch 5/10\n",
            "200/200 [==============================] - 19s 94ms/step - loss: 2.2266e-04 - mae: 0.0109 - val_loss: 1.8206e-04 - val_mae: 0.0097\n",
            "Epoch 6/10\n",
            "200/200 [==============================] - 18s 89ms/step - loss: 2.0338e-04 - mae: 0.0105 - val_loss: 2.6206e-04 - val_mae: 0.0123\n",
            "Epoch 7/10\n",
            "200/200 [==============================] - 18s 89ms/step - loss: 1.8144e-04 - mae: 0.0098 - val_loss: 1.8433e-04 - val_mae: 0.0101\n",
            "Epoch 8/10\n",
            "200/200 [==============================] - 20s 98ms/step - loss: 2.2601e-04 - mae: 0.0112 - val_loss: 2.4850e-04 - val_mae: 0.0116\n",
            "Epoch 9/10\n",
            "200/200 [==============================] - 19s 97ms/step - loss: 2.0733e-04 - mae: 0.0106 - val_loss: 1.4365e-04 - val_mae: 0.0091\n",
            "Epoch 10/10\n",
            "200/200 [==============================] - 18s 89ms/step - loss: 1.3962e-04 - mae: 0.0087 - val_loss: 1.1028e-04 - val_mae: 0.0077\n"
          ]
        }
      ],
      "source": [
        "# Train the model\n",
        "history = model.fit(X_train, y_train, epochs=10, validation_split=0.2, batch_size=32)"
      ]
    },
    {
      "cell_type": "markdown",
      "source": [
        "### **EVALUATION AND VISUALIZATION**"
      ],
      "metadata": {
        "id": "k0JhtnIJBbcP"
      }
    },
    {
      "cell_type": "code",
      "execution_count": 24,
      "metadata": {
        "colab": {
          "base_uri": "https://localhost:8080/"
        },
        "id": "obmnJoggmVYX",
        "outputId": "9a8e94aa-6e68-44bf-cb1b-f596ea681beb"
      },
      "outputs": [
        {
          "output_type": "stream",
          "name": "stdout",
          "text": [
            "63/63 [==============================] - 1s 22ms/step - loss: 1.2421e-04 - mae: 0.0079\n",
            "Test Loss: 0.00012420830898918211, Test MSE: 0.00790634099394083\n",
            "63/63 [==============================] - 1s 22ms/step\n"
          ]
        }
      ],
      "source": [
        "# Evaluate the model on test data\n",
        "loss, mse = model.evaluate(X_test, y_test)\n",
        "print(f\"Test Loss: {loss}, Test MSE: {mse}\")\n",
        "\n",
        "# Predict on test data\n",
        "predictions = model.predict(X_test)\n"
      ]
    },
    {
      "cell_type": "code",
      "execution_count": 25,
      "metadata": {
        "colab": {
          "base_uri": "https://localhost:8080/",
          "height": 264
        },
        "id": "J0jrAXQXmZup",
        "outputId": "ac7ab2ef-b56f-426d-a5be-7d7b8ae57914"
      },
      "outputs": [
        {
          "output_type": "display_data",
          "data": {
            "text/plain": [
              "<Figure size 1500x300 with 5 Axes>"
            ],
            "image/png": "[encoded data removed]"
          },
          "metadata": {}
        }
      ],
      "source": [
        "# Compare predictions with ground truth (no visualization of the ground truth dot)\n",
        "fig, axes = plt.subplots(1, 5, figsize=(15, 3))\n",
        "for i in range(5):\n",
        "    axes[i].imshow(X_test[i].reshape(50, 50), cmap='gray')\n",
        "    # Plot predictions in red\n",
        "    axes[i].scatter(int(predictions[i][1]*50), int(predictions[i][0]*50), color='red', label='Predicted', s=50, edgecolor='black')\n",
        "    axes[i].legend()\n",
        "plt.show()\n"
      ]
    },
    {
      "cell_type": "code",
      "source": [
        "# Print actual and predicted coordinates for the first 5 test samples\n",
        "for i in range(5):\n",
        "    print(f\"Sample {i+1}:\")\n",
        "    print(f\"  Actual Coordinates: {y_test[i]}\")\n",
        "    print(f\"  Predicted Coordinates: {predictions[i]}\")"
      ],
      "metadata": {
        "colab": {
          "base_uri": "https://localhost:8080/"
        },
        "id": "ou8vejIF8XRH",
        "outputId": "ed25ac04-b8b4-49a3-d36e-8d1a20afc41c"
      },
      "execution_count": 26,
      "outputs": [
        {
          "output_type": "stream",
          "name": "stdout",
          "text": [
            "Sample 1:\n",
            "  Actual Coordinates: [0.9  0.78]\n",
            "  Predicted Coordinates: [0.8871177 0.7763674]\n",
            "Sample 2:\n",
            "  Actual Coordinates: [0.52 0.82]\n",
            "  Predicted Coordinates: [0.51905537 0.82062423]\n",
            "Sample 3:\n",
            "  Actual Coordinates: [0.08 0.1 ]\n",
            "  Predicted Coordinates: [0.09388624 0.10732713]\n",
            "Sample 4:\n",
            "  Actual Coordinates: [0.38 0.54]\n",
            "  Predicted Coordinates: [0.3819631  0.54087186]\n",
            "Sample 5:\n",
            "  Actual Coordinates: [0.86 0.32]\n",
            "  Predicted Coordinates: [0.868249   0.33014777]\n"
          ]
        }
      ]
    }
  ],
  "metadata": {
    "colab": {
      "provenance": []
    },
    "kernelspec": {
      "display_name": "Python 3",
      "name": "python3"
    },
    "language_info": {
      "name": "python"
    }
  },
  "nbformat": 4,
  "nbformat_minor": 0
}